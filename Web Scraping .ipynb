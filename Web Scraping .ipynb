{
 "cells": [
  {
   "cell_type": "code",
   "execution_count": 4,
   "metadata": {},
   "outputs": [],
   "source": [
    "import bs4\n",
    "from urllib.request import urlopen as request\n",
    "from bs4 import BeautifulSoup as soup\n",
    "\n",
    "#opening connection and grabbing the page contents\n",
    "url = \"https://www.newegg.com/Gaming-Laptops/Category/ID-363?Tid=157991\"\n",
    "client = request(url)\n",
    "webpage = client.read()\n",
    "client.close()\n",
    "webpage_soup = soup(webpage,\"html.parser\")\n",
    "containers = webpage_soup.findAll('div',{'class':'item-container'})\n",
    "\n",
    "#opening csv file\n",
    "f = open(\"products.csv\",'w')\n",
    "headers= 'product_brand,product_name,product_price\\n'\n",
    "f.write(headers)\n",
    "\n",
    "for container in containers:\n",
    "    product_title = container.find('div','item-info').img['title']\n",
    "    product_name = container.findAll(\"a\",{\"class\":\"item-title\"})[0].text\n",
    "    product_price = container.findAll(\"li\",{\"class\":\"price-current\"})[0].strong.text\n",
    "    f.write(product_title + \",\"+ product_name.replace(\",\",\" \") + \",\" + product_price + \"\\n\")\n",
    "    print(product_title + \",\"+ product_name.replace(\",\",\"\") + \",\" + product_price + \"\\n\")\n",
    "    \n",
    "    \n",
    "f.close()"
   ]
  }
 ],
 "metadata": {
  "kernelspec": {
   "display_name": "Python 3",
   "language": "python",
   "name": "python3"
  },
  "language_info": {
   "codemirror_mode": {
    "name": "ipython",
    "version": 3
   },
   "file_extension": ".py",
   "mimetype": "text/x-python",
   "name": "python",
   "nbconvert_exporter": "python",
   "pygments_lexer": "ipython3",
   "version": "3.7.1"
  }
 },
 "nbformat": 4,
 "nbformat_minor": 2
}
